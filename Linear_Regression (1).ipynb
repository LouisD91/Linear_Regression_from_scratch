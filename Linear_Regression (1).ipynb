{
 "cells": [
  {
   "cell_type": "markdown",
   "metadata": {},
   "source": [
    "# Linear regression, Lab 1\n",
    "Made by Louis Dumontet and Victor Serena\n",
    "\n",
    "## Importing tools"
   ]
  },
  {
   "cell_type": "code",
   "execution_count": 1,
   "metadata": {},
   "outputs": [],
   "source": [
    "import numpy as np\n",
    "import pandas as pd\n",
    "import matplotlib.pyplot as plt\n",
    "from sklearn.linear_model import LinearRegression, SGDRegressor\n",
    "from sklearn.preprocessing import MinMaxScaler\n",
    "from sklearn.metrics import r2_score, mean_absolute_error, mean_squared_error\n",
    "from sklearn.preprocessing import PolynomialFeatures\n",
    "from sklearn.ensemble import GradientBoostingRegressor, RandomForestRegressor\n",
    "from keras.layers import Input, Add, Dense\n",
    "from keras.models import Sequential\n",
    "import tensorflow as tf"
   ]
  },
  {
   "cell_type": "markdown",
   "metadata": {},
   "source": [
    "## Loading the dataset"
   ]
  },
  {
   "cell_type": "code",
   "execution_count": 2,
   "metadata": {},
   "outputs": [],
   "source": [
    "df = pd.read_excel(r'C:\\Users\\Louis\\Desktop\\CCPP\\Folds5x2_pp.xlsx')"
   ]
  },
  {
   "cell_type": "markdown",
   "metadata": {},
   "source": [
    "## Familiarizing with the dataset"
   ]
  },
  {
   "cell_type": "code",
   "execution_count": 3,
   "metadata": {},
   "outputs": [
    {
     "name": "stdout",
     "output_type": "stream",
     "text": [
      "Size of our dataframe : 9568\n",
      "\n"
     ]
    },
    {
     "data": {
      "text/html": [
       "<div>\n",
       "<style scoped>\n",
       "    .dataframe tbody tr th:only-of-type {\n",
       "        vertical-align: middle;\n",
       "    }\n",
       "\n",
       "    .dataframe tbody tr th {\n",
       "        vertical-align: top;\n",
       "    }\n",
       "\n",
       "    .dataframe thead th {\n",
       "        text-align: right;\n",
       "    }\n",
       "</style>\n",
       "<table border=\"1\" class=\"dataframe\">\n",
       "  <thead>\n",
       "    <tr style=\"text-align: right;\">\n",
       "      <th></th>\n",
       "      <th>AT</th>\n",
       "      <th>V</th>\n",
       "      <th>AP</th>\n",
       "      <th>RH</th>\n",
       "      <th>PE</th>\n",
       "    </tr>\n",
       "  </thead>\n",
       "  <tbody>\n",
       "    <tr>\n",
       "      <th>count</th>\n",
       "      <td>9568.000000</td>\n",
       "      <td>9568.000000</td>\n",
       "      <td>9568.000000</td>\n",
       "      <td>9568.000000</td>\n",
       "      <td>9568.000000</td>\n",
       "    </tr>\n",
       "    <tr>\n",
       "      <th>mean</th>\n",
       "      <td>19.651231</td>\n",
       "      <td>54.305804</td>\n",
       "      <td>1013.259078</td>\n",
       "      <td>73.308978</td>\n",
       "      <td>454.365009</td>\n",
       "    </tr>\n",
       "    <tr>\n",
       "      <th>std</th>\n",
       "      <td>7.452473</td>\n",
       "      <td>12.707893</td>\n",
       "      <td>5.938784</td>\n",
       "      <td>14.600269</td>\n",
       "      <td>17.066995</td>\n",
       "    </tr>\n",
       "    <tr>\n",
       "      <th>min</th>\n",
       "      <td>1.810000</td>\n",
       "      <td>25.360000</td>\n",
       "      <td>992.890000</td>\n",
       "      <td>25.560000</td>\n",
       "      <td>420.260000</td>\n",
       "    </tr>\n",
       "    <tr>\n",
       "      <th>25%</th>\n",
       "      <td>13.510000</td>\n",
       "      <td>41.740000</td>\n",
       "      <td>1009.100000</td>\n",
       "      <td>63.327500</td>\n",
       "      <td>439.750000</td>\n",
       "    </tr>\n",
       "    <tr>\n",
       "      <th>50%</th>\n",
       "      <td>20.345000</td>\n",
       "      <td>52.080000</td>\n",
       "      <td>1012.940000</td>\n",
       "      <td>74.975000</td>\n",
       "      <td>451.550000</td>\n",
       "    </tr>\n",
       "    <tr>\n",
       "      <th>75%</th>\n",
       "      <td>25.720000</td>\n",
       "      <td>66.540000</td>\n",
       "      <td>1017.260000</td>\n",
       "      <td>84.830000</td>\n",
       "      <td>468.430000</td>\n",
       "    </tr>\n",
       "    <tr>\n",
       "      <th>max</th>\n",
       "      <td>37.110000</td>\n",
       "      <td>81.560000</td>\n",
       "      <td>1033.300000</td>\n",
       "      <td>100.160000</td>\n",
       "      <td>495.760000</td>\n",
       "    </tr>\n",
       "  </tbody>\n",
       "</table>\n",
       "</div>"
      ],
      "text/plain": [
       "                AT            V           AP           RH           PE\n",
       "count  9568.000000  9568.000000  9568.000000  9568.000000  9568.000000\n",
       "mean     19.651231    54.305804  1013.259078    73.308978   454.365009\n",
       "std       7.452473    12.707893     5.938784    14.600269    17.066995\n",
       "min       1.810000    25.360000   992.890000    25.560000   420.260000\n",
       "25%      13.510000    41.740000  1009.100000    63.327500   439.750000\n",
       "50%      20.345000    52.080000  1012.940000    74.975000   451.550000\n",
       "75%      25.720000    66.540000  1017.260000    84.830000   468.430000\n",
       "max      37.110000    81.560000  1033.300000   100.160000   495.760000"
      ]
     },
     "execution_count": 3,
     "metadata": {},
     "output_type": "execute_result"
    }
   ],
   "source": [
    "print(\"Size of our dataframe :\",df.shape[0])\n",
    "print()\n",
    "df.describe()"
   ]
  },
  {
   "cell_type": "code",
   "execution_count": 4,
   "metadata": {},
   "outputs": [
    {
     "data": {
      "text/html": [
       "<div>\n",
       "<style scoped>\n",
       "    .dataframe tbody tr th:only-of-type {\n",
       "        vertical-align: middle;\n",
       "    }\n",
       "\n",
       "    .dataframe tbody tr th {\n",
       "        vertical-align: top;\n",
       "    }\n",
       "\n",
       "    .dataframe thead th {\n",
       "        text-align: right;\n",
       "    }\n",
       "</style>\n",
       "<table border=\"1\" class=\"dataframe\">\n",
       "  <thead>\n",
       "    <tr style=\"text-align: right;\">\n",
       "      <th></th>\n",
       "      <th>AT</th>\n",
       "      <th>V</th>\n",
       "      <th>AP</th>\n",
       "      <th>RH</th>\n",
       "      <th>PE</th>\n",
       "    </tr>\n",
       "  </thead>\n",
       "  <tbody>\n",
       "    <tr>\n",
       "      <th>0</th>\n",
       "      <td>14.96</td>\n",
       "      <td>41.76</td>\n",
       "      <td>1024.07</td>\n",
       "      <td>73.17</td>\n",
       "      <td>463.26</td>\n",
       "    </tr>\n",
       "    <tr>\n",
       "      <th>1</th>\n",
       "      <td>25.18</td>\n",
       "      <td>62.96</td>\n",
       "      <td>1020.04</td>\n",
       "      <td>59.08</td>\n",
       "      <td>444.37</td>\n",
       "    </tr>\n",
       "    <tr>\n",
       "      <th>2</th>\n",
       "      <td>5.11</td>\n",
       "      <td>39.40</td>\n",
       "      <td>1012.16</td>\n",
       "      <td>92.14</td>\n",
       "      <td>488.56</td>\n",
       "    </tr>\n",
       "    <tr>\n",
       "      <th>3</th>\n",
       "      <td>20.86</td>\n",
       "      <td>57.32</td>\n",
       "      <td>1010.24</td>\n",
       "      <td>76.64</td>\n",
       "      <td>446.48</td>\n",
       "    </tr>\n",
       "    <tr>\n",
       "      <th>4</th>\n",
       "      <td>10.82</td>\n",
       "      <td>37.50</td>\n",
       "      <td>1009.23</td>\n",
       "      <td>96.62</td>\n",
       "      <td>473.90</td>\n",
       "    </tr>\n",
       "  </tbody>\n",
       "</table>\n",
       "</div>"
      ],
      "text/plain": [
       "      AT      V       AP     RH      PE\n",
       "0  14.96  41.76  1024.07  73.17  463.26\n",
       "1  25.18  62.96  1020.04  59.08  444.37\n",
       "2   5.11  39.40  1012.16  92.14  488.56\n",
       "3  20.86  57.32  1010.24  76.64  446.48\n",
       "4  10.82  37.50  1009.23  96.62  473.90"
      ]
     },
     "execution_count": 4,
     "metadata": {},
     "output_type": "execute_result"
    }
   ],
   "source": [
    "df.head()"
   ]
  },
  {
   "cell_type": "code",
   "execution_count": 5,
   "metadata": {},
   "outputs": [
    {
     "data": {
      "text/html": [
       "<div>\n",
       "<style scoped>\n",
       "    .dataframe tbody tr th:only-of-type {\n",
       "        vertical-align: middle;\n",
       "    }\n",
       "\n",
       "    .dataframe tbody tr th {\n",
       "        vertical-align: top;\n",
       "    }\n",
       "\n",
       "    .dataframe thead th {\n",
       "        text-align: right;\n",
       "    }\n",
       "</style>\n",
       "<table border=\"1\" class=\"dataframe\">\n",
       "  <thead>\n",
       "    <tr style=\"text-align: right;\">\n",
       "      <th></th>\n",
       "      <th>AT</th>\n",
       "      <th>V</th>\n",
       "      <th>AP</th>\n",
       "      <th>RH</th>\n",
       "      <th>PE</th>\n",
       "    </tr>\n",
       "  </thead>\n",
       "  <tbody>\n",
       "    <tr>\n",
       "      <th>9563</th>\n",
       "      <td>16.65</td>\n",
       "      <td>49.69</td>\n",
       "      <td>1014.01</td>\n",
       "      <td>91.00</td>\n",
       "      <td>460.03</td>\n",
       "    </tr>\n",
       "    <tr>\n",
       "      <th>9564</th>\n",
       "      <td>13.19</td>\n",
       "      <td>39.18</td>\n",
       "      <td>1023.67</td>\n",
       "      <td>66.78</td>\n",
       "      <td>469.62</td>\n",
       "    </tr>\n",
       "    <tr>\n",
       "      <th>9565</th>\n",
       "      <td>31.32</td>\n",
       "      <td>74.33</td>\n",
       "      <td>1012.92</td>\n",
       "      <td>36.48</td>\n",
       "      <td>429.57</td>\n",
       "    </tr>\n",
       "    <tr>\n",
       "      <th>9566</th>\n",
       "      <td>24.48</td>\n",
       "      <td>69.45</td>\n",
       "      <td>1013.86</td>\n",
       "      <td>62.39</td>\n",
       "      <td>435.74</td>\n",
       "    </tr>\n",
       "    <tr>\n",
       "      <th>9567</th>\n",
       "      <td>21.60</td>\n",
       "      <td>62.52</td>\n",
       "      <td>1017.23</td>\n",
       "      <td>67.87</td>\n",
       "      <td>453.28</td>\n",
       "    </tr>\n",
       "  </tbody>\n",
       "</table>\n",
       "</div>"
      ],
      "text/plain": [
       "         AT      V       AP     RH      PE\n",
       "9563  16.65  49.69  1014.01  91.00  460.03\n",
       "9564  13.19  39.18  1023.67  66.78  469.62\n",
       "9565  31.32  74.33  1012.92  36.48  429.57\n",
       "9566  24.48  69.45  1013.86  62.39  435.74\n",
       "9567  21.60  62.52  1017.23  67.87  453.28"
      ]
     },
     "execution_count": 5,
     "metadata": {},
     "output_type": "execute_result"
    }
   ],
   "source": [
    "df.tail()"
   ]
  },
  {
   "cell_type": "markdown",
   "metadata": {},
   "source": [
    "# Functions to compute the models\n",
    "\n",
    "## Split function\n",
    "Split the dataset in 2sets, train and test with test being composed of random rows taken from the dataset"
   ]
  },
  {
   "cell_type": "code",
   "execution_count": 6,
   "metadata": {},
   "outputs": [],
   "source": [
    "def split(dataframe, test_size = 0.2) :\n",
    "    \n",
    "    \"\"\"Split the dataframe in train and test\"\"\"\n",
    "    \n",
    "    dataframe = dataframe.sample(frac=1).reset_index(drop=True)\n",
    "    \n",
    "    size = dataframe.shape[0]\n",
    "    \n",
    "    # train size is size of the (1-test_size)*100 percent of the dataframe that was sampled before\n",
    "    train_size = int(size * (1 - test_size))\n",
    "    \n",
    "    train = dataframe[:train_size]\n",
    "    \n",
    "    test = dataframe[train_size:]\n",
    "    \n",
    "    return train, test"
   ]
  },
  {
   "cell_type": "markdown",
   "metadata": {},
   "source": [
    "## Normalize features\n",
    "Using the z-score method"
   ]
  },
  {
   "cell_type": "code",
   "execution_count": 7,
   "metadata": {},
   "outputs": [],
   "source": [
    "def normalize_dataframe(dataframe) :\n",
    "    \n",
    "    \"\"\"Normalize and return dataframe\"\"\"\n",
    "    \n",
    "    # we used the z-score normalisation method\n",
    "    dataframe = (dataframe - dataframe.mean()) / dataframe.std()\n",
    "    \n",
    "    return dataframe"
   ]
  },
  {
   "cell_type": "markdown",
   "metadata": {},
   "source": [
    "## Initialize weights\n",
    "All weights are set to 0"
   ]
  },
  {
   "cell_type": "code",
   "execution_count": 8,
   "metadata": {},
   "outputs": [],
   "source": [
    "def weights_initializer(dataframe):\n",
    "    \n",
    "    \"\"\"Creation of the weight vector according to the size of the dataset\"\"\"\n",
    "    \n",
    "    # we initialized our weights to 0\n",
    "    weights = np.zeros((dataframe.shape[1],1))\n",
    "    \n",
    "    return weights"
   ]
  },
  {
   "cell_type": "markdown",
   "metadata": {},
   "source": [
    "## Create the X matrix with bias"
   ]
  },
  {
   "cell_type": "code",
   "execution_count": 9,
   "metadata": {},
   "outputs": [],
   "source": [
    "def create_matrix(dataframe, column) : \n",
    "    \n",
    "    \"\"\"Creation of the matrix of observations from a dataframe\"\"\"\n",
    "    \n",
    "    # drop the label colum that we want to predict\n",
    "    df_without_column = dataframe.drop(column, axis=1)\n",
    "    \n",
    "    matrix = df_without_column.to_numpy()\n",
    "    \n",
    "    # add the bias column to the dataset\n",
    "    matrix = np.c_[np.ones(matrix.shape[0]), matrix]\n",
    "    \n",
    "    return matrix"
   ]
  },
  {
   "cell_type": "markdown",
   "metadata": {},
   "source": [
    "## Create the y matrix (column)"
   ]
  },
  {
   "cell_type": "code",
   "execution_count": 10,
   "metadata": {},
   "outputs": [],
   "source": [
    "def create_labels(dataframe, column) :\n",
    "    \n",
    "    \"\"\"Creation of the labels vector\"\"\"\n",
    "    \n",
    "    labels = dataframe[column].to_numpy().T\n",
    "    \n",
    "    labels.shape = (dataframe.shape[0], 1)\n",
    "    \n",
    "    return labels"
   ]
  },
  {
   "cell_type": "markdown",
   "metadata": {},
   "source": [
    "## Compute the cost function using matrices multiplication"
   ]
  },
  {
   "cell_type": "code",
   "execution_count": 11,
   "metadata": {},
   "outputs": [],
   "source": [
    "def cost_function(matrix, weights, labels) :\n",
    "    \n",
    "    \"\"\"Compute the cost function\"\"\"\n",
    "    \n",
    "    m = matrix.shape[0]\n",
    "    \n",
    "    # this is the computation of the cost function using matrix multiplication\n",
    "    J = (1 /(2 * m)) * (matrix @ weights - labels).T @ ((matrix @ weights) - labels)\n",
    "    \n",
    "    return J[0][0]"
   ]
  },
  {
   "cell_type": "markdown",
   "metadata": {},
   "source": [
    "## Update the new weight vector"
   ]
  },
  {
   "cell_type": "code",
   "execution_count": 12,
   "metadata": {},
   "outputs": [],
   "source": [
    "def gradient_descent(matrix, weights, labels, learning_rate = 0.03):\n",
    "    \n",
    "    \"\"\"Update and return the weights\"\"\"\n",
    "    \n",
    "    m = matrix.shape[0]\n",
    "    \n",
    "    # compute new weight vector given the learning rate and previous weights\n",
    "    weights = weights - learning_rate / m * (matrix.T @ (matrix @ weights - labels))\n",
    "    \n",
    "    return weights"
   ]
  },
  {
   "cell_type": "markdown",
   "metadata": {},
   "source": [
    "## Compute final weights and cost list using gradient descent"
   ]
  },
  {
   "cell_type": "code",
   "execution_count": 13,
   "metadata": {},
   "outputs": [],
   "source": [
    "def gradient_descent_from_dataframe(dataframe, labels_column, delta=0, learning_rate = 0.03, iterations = 1000, normalize = True) : \n",
    "    \n",
    "    # cost list that will help us check that our cost is indeed decreasing\n",
    "    cost_list = []\n",
    "\n",
    "    if normalize :\n",
    "        dataframe = normalize_dataframe(dataframe)\n",
    "    \n",
    "    # intialize everything using the previous functions\n",
    "    weights = weights_initializer(dataframe)\n",
    "    \n",
    "    matrix = create_matrix(dataframe, labels_column)\n",
    "    \n",
    "    labels = create_labels(dataframe, labels_column)\n",
    "    \n",
    "    cost = cost_function(matrix, weights, labels)\n",
    "    \n",
    "    cost_list.append(cost)\n",
    "    \n",
    "    # execute the gradient descent, stop when the max number of iterations is reached or when the cost is sufficiently low\n",
    "    for i in range(iterations - 1) :\n",
    "        \n",
    "        weights = gradient_descent(matrix, weights, labels, learning_rate)\n",
    "        \n",
    "        new_cost = cost_function(matrix, weights, labels)\n",
    "        \n",
    "        cost_list.append(new_cost)\n",
    "        \n",
    "        if abs(new_cost - cost) < delta :\n",
    "            \n",
    "            break\n",
    "        \n",
    "        cost = new_cost\n",
    "        \n",
    "    return weights, cost_list"
   ]
  },
  {
   "cell_type": "markdown",
   "metadata": {},
   "source": [
    "## Compute final weights using normal equation"
   ]
  },
  {
   "cell_type": "code",
   "execution_count": 14,
   "metadata": {},
   "outputs": [],
   "source": [
    "def normal_equation_from_dataframe(dataframe, labels_column, normalize=True) :\n",
    "    \n",
    "    if normalize :\n",
    "        # once again normalize the dataframe in order to compare comparable costs\n",
    "        # in this instance costs from our gradient descent with costs from the normal equation\n",
    "        dataframe = normalize_dataframe(dataframe) \n",
    "    \n",
    "    matrix = create_matrix(dataframe, labels_column)\n",
    "    \n",
    "    labels = create_labels(dataframe, labels_column)\n",
    "    \n",
    "    weights = np.linalg.pinv( matrix.T @ matrix ) @ matrix.T @ labels\n",
    "    \n",
    "    print(\"Cost :\",cost_function(matrix, weights, labels))\n",
    "    \n",
    "    return weights"
   ]
  },
  {
   "cell_type": "markdown",
   "metadata": {},
   "source": [
    "## Compute the MAE and RMSE given weights"
   ]
  },
  {
   "cell_type": "code",
   "execution_count": 15,
   "metadata": {},
   "outputs": [],
   "source": [
    "def compute_metrics(dataframe, labels_column, weights, normalize=True) :\n",
    "    \n",
    "    if normalize:\n",
    "        dataframe_normalized = normalize_dataframe(dataframe)\n",
    "        meandf = dataframe[labels_column].mean()\n",
    "        stddf = dataframe[labels_column].std()\n",
    "        \n",
    "    else :\n",
    "        dataframe_normalized = dataframe\n",
    "        meandf = 0\n",
    "        stddf = 1\n",
    "    \n",
    "    matrix = create_matrix(dataframe_normalized, labels_column)\n",
    "    \n",
    "    labels = create_labels(dataframe, labels_column)\n",
    "    \n",
    "    m = matrix.shape[0]\n",
    "    \n",
    "    yhat = stddf * (matrix @ weights) + meandf\n",
    "    \n",
    "    mae = np.sum( abs(yhat - labels) ) / m\n",
    "    \n",
    "    rmse = np.sqrt( np.sum( (yhat - labels)**2 ) / m )\n",
    "    \n",
    "    print(\"MAE :\",mae)\n",
    "    \n",
    "    print(\"RMSE :\",rmse)\n",
    "    \n",
    "    return mae, rmse"
   ]
  },
  {
   "cell_type": "markdown",
   "metadata": {},
   "source": [
    "## Compute the linear correlation coefficient"
   ]
  },
  {
   "cell_type": "code",
   "execution_count": 16,
   "metadata": {},
   "outputs": [],
   "source": [
    "def compute_R2(dataframe, labels_column, weights, normalize=True) :\n",
    "    \n",
    "    if normalize:\n",
    "        dataframe_normalized = normalize_dataframe(dataframe)\n",
    "        meandf = dataframe[labels_column].mean()\n",
    "        stddf = dataframe[labels_column].std()\n",
    "        \n",
    "    else :\n",
    "        dataframe_normalized = dataframe\n",
    "        meandf = 0\n",
    "        stddf = 1\n",
    "    \n",
    "    matrix = create_matrix(dataframe_normalized, labels_column)\n",
    "    \n",
    "    labels = create_labels(dataframe, labels_column)\n",
    "    \n",
    "    mean_labels = labels.mean()\n",
    "    \n",
    "    m = matrix.shape[0]\n",
    "    \n",
    "    yhat = stddf * (matrix @ weights) + meandf\n",
    "    \n",
    "    sst = np.sum( (labels - mean_labels)**2 )\n",
    "    \n",
    "    ssr = np.sum( (yhat - labels)**2 ) \n",
    "    \n",
    "    R2 = 1 - (ssr / sst)\n",
    "    \n",
    "    print(\"R² :\",R2)\n",
    "    \n",
    "    return R2"
   ]
  },
  {
   "cell_type": "markdown",
   "metadata": {},
   "source": [
    "#### The previous metrics, R², MAE and RMSE, are use to verify the efficiency of each model"
   ]
  },
  {
   "cell_type": "markdown",
   "metadata": {},
   "source": [
    "## Execute the gradient descent model"
   ]
  },
  {
   "cell_type": "code",
   "execution_count": 17,
   "metadata": {},
   "outputs": [],
   "source": [
    "def model_gradient_descent(dataframe, labels_column, normalize=True, delta=0, learning_rate = 0.03, iterations = 1000, \n",
    "                           test_split=0.2) :\n",
    "    \n",
    "    train, test = split(dataframe, test_split)\n",
    "    \n",
    "    weights, cost_list = gradient_descent_from_dataframe(train, labels_column, delta, learning_rate, iterations, normalize)\n",
    "    \n",
    "    print(\"Results with gradient descent :\")\n",
    "    print()\n",
    "    \n",
    "    print(\"Hyperparameters : \")\n",
    "    print(\"Learning rate :\",learning_rate,\" Numbers of iterations :\",iterations,\" Delta :\",delta,\n",
    "          \" Size of the test set :\",test_split * 100,\"%\")\n",
    "    print()\n",
    "    \n",
    "    plt.title(\"Cost over iterations\")\n",
    "    plt.xlabel(\"Number of iterations\")\n",
    "    plt.ylabel(\"Cost\")\n",
    "    plt.plot(cost_list)\n",
    "    plt.show()\n",
    "    \n",
    "    print(\"MAE and RMSE on the entire dataset :\")\n",
    "    fullMetrics = compute_metrics(dataframe, labels_column, weights)\n",
    "    print()\n",
    "    \n",
    "    print(\"MAE and RMSE on the training set :\")\n",
    "    trainMetrics = compute_metrics(train, labels_column, weights)\n",
    "    print()\n",
    "    \n",
    "    print(\"MAE and RMSE on the test set :\")\n",
    "    testMetrics = compute_metrics(test, labels_column, weights)\n",
    "    print()\n",
    "    \n",
    "    print(\"R² on the entire dataset :\")\n",
    "    fullR2 = compute_R2(dataframe, labels_column, weights, normalize)\n",
    "    print()\n",
    "    \n",
    "    print(\"R² on the training set :\")\n",
    "    trainR2 = compute_R2(train, labels_column, weights, normalize)\n",
    "    print()\n",
    "    \n",
    "    print(\"R² on the test set :\")\n",
    "    testR2 = compute_R2(test, labels_column, weights, normalize)\n",
    "    print()\n",
    "    \n",
    "    return weights,fullMetrics,trainMetrics,testMetrics,fullR2,trainR2,testR2"
   ]
  },
  {
   "cell_type": "markdown",
   "metadata": {},
   "source": [
    "## Execute the normal equation model"
   ]
  },
  {
   "cell_type": "code",
   "execution_count": 18,
   "metadata": {},
   "outputs": [],
   "source": [
    "def model_normal_equation(dataframe, labels_column, normalize=True, test_split=0.2) :\n",
    "    \n",
    "    train, test = split(dataframe, test_split)\n",
    "    \n",
    "    print(\"Results with normal equation :\")\n",
    "    print()\n",
    "    \n",
    "    print(\"Hyperparameters : \")\n",
    "    print(\"Size of the test set :\",test_split * 100,\"%\")\n",
    "    print()\n",
    "    \n",
    "    weights = normal_equation_from_dataframe(train, labels_column, normalize)\n",
    "\n",
    "    print()\n",
    "    print(\"MAE and RMSE on the entire dataset :\")\n",
    "    fullMetrics = compute_metrics(dataframe, labels_column, weights, normalize)\n",
    "    print()\n",
    "    \n",
    "    print(\"MAE and RMSE on the training set :\")\n",
    "    trainMetrics = compute_metrics(train, labels_column, weights, normalize)\n",
    "    print()\n",
    "    \n",
    "    print(\"MAE and RMSE on the test set :\")\n",
    "    testMetrics = compute_metrics(test, labels_column, weights, normalize)\n",
    "    print()\n",
    "    \n",
    "    print(\"R² on the entire dataset :\")\n",
    "    fullR2 = compute_R2(dataframe, labels_column, weights, normalize)\n",
    "    print()\n",
    "    \n",
    "    print(\"R² on the training set :\")\n",
    "    trainR2 = compute_R2(train, labels_column, weights, normalize)\n",
    "    print()\n",
    "    \n",
    "    print(\"R² on the test set :\")\n",
    "    testR2 = compute_R2(test, labels_column, weights, normalize)\n",
    "    print()\n",
    "    \n",
    "    return weights,fullMetrics,trainMetrics,testMetrics,fullR2,trainR2,testR2"
   ]
  },
  {
   "cell_type": "markdown",
   "metadata": {},
   "source": [
    "## Execute the model with scikit learn"
   ]
  },
  {
   "cell_type": "code",
   "execution_count": 19,
   "metadata": {},
   "outputs": [],
   "source": [
    "def model_with_scikit(dataframe, labels_column, normalize=True) :\n",
    "    \n",
    "    model = LinearRegression()\n",
    "    normalize = MinMaxScaler()\n",
    "\n",
    "    Y = dataframe[labels_column]\n",
    "\n",
    "    if normalize:\n",
    "        X = normalize.fit_transform(dataframe.drop([labels_column], axis=1))\n",
    "    else :\n",
    "        X = dataframe.drop(labels_column)\n",
    "\n",
    "    model.fit(X, Y)\n",
    "    predictions = model.predict(X)\n",
    "    print(\"MAE :\",mean_absolute_error(Y, predictions))\n",
    "    print(\"RMSE :\",mean_squared_error(Y, predictions, squared=False))\n",
    "    print(\"R² :\",model.score(X, Y))"
   ]
  },
  {
   "cell_type": "markdown",
   "metadata": {},
   "source": [
    "#### Once we have defined all of the model we can now display the results"
   ]
  },
  {
   "cell_type": "markdown",
   "metadata": {},
   "source": [
    "## Display the results"
   ]
  },
  {
   "cell_type": "code",
   "execution_count": 20,
   "metadata": {
    "scrolled": false
   },
   "outputs": [
    {
     "name": "stdout",
     "output_type": "stream",
     "text": [
      "Results with gradient descent :\n",
      "\n",
      "Hyperparameters : \n",
      "Learning rate : 0.03  Numbers of iterations : 1000  Delta : 0  Size of the test set : 20.0 %\n",
      "\n"
     ]
    },
    {
     "data": {
      "image/png": "[encoded data removed]",
      "text/plain": [
       "<Figure size 432x288 with 1 Axes>"
      ]
     },
     "metadata": {
      "needs_background": "light"
     },
     "output_type": "display_data"
    },
    {
     "name": "stdout",
     "output_type": "stream",
     "text": [
      "MAE and RMSE on the entire dataset :\n",
      "MAE : 3.6323046667161503\n",
      "RMSE : 4.559565605931949\n",
      "\n",
      "MAE and RMSE on the training set :\n",
      "MAE : 3.6529997959691527\n",
      "RMSE : 4.601112769074412\n",
      "\n",
      "MAE and RMSE on the test set :\n",
      "MAE : 3.547799002970949\n",
      "RMSE : 4.3859654083462285\n",
      "\n",
      "R² on the entire dataset :\n",
      "R² : 0.9286197264162502\n",
      "\n",
      "R² on the training set :\n",
      "R² : 0.9272182845524879\n",
      "\n",
      "R² on the test set :\n",
      "R² : 0.9342608303648225\n",
      "\n"
     ]
    }
   ],
   "source": [
    "(gradientWeights, gradientFullMetrics, gradientTrainMetrics, gradientTestM, \n",
    " gradientFullR2, gTrainR2, gradientTestR2) = model_gradient_descent(df, 'PE')"
   ]
  },
  {
   "cell_type": "code",
   "execution_count": 21,
   "metadata": {
    "scrolled": false
   },
   "outputs": [
    {
     "name": "stdout",
     "output_type": "stream",
     "text": [
      "Results with normal equation :\n",
      "\n",
      "Hyperparameters : \n",
      "Size of the test set : 20.0 %\n",
      "\n",
      "Cost : 0.03621804418056143\n",
      "\n",
      "MAE and RMSE on the entire dataset :\n",
      "MAE : 3.6279065468867375\n",
      "RMSE : 4.557463552925398\n",
      "\n",
      "MAE and RMSE on the training set :\n",
      "MAE : 3.679614716248469\n",
      "RMSE : 4.614316634223604\n",
      "\n",
      "MAE and RMSE on the test set :\n",
      "MAE : 3.4223390907368407\n",
      "RMSE : 4.323067520133491\n",
      "\n",
      "R² on the entire dataset :\n",
      "R² : 0.9286855267773924\n",
      "\n",
      "R² on the training set :\n",
      "R² : 0.9275544465809443\n",
      "\n",
      "R² on the test set :\n",
      "R² : 0.933409124496338\n",
      "\n"
     ]
    }
   ],
   "source": [
    "(normalWeights, normalfullMetrics, normaltrainMetrics, normaltestMetrics,\n",
    " normalfullR2, normaltrainR2, normaltestR2) = model_normal_equation(df, 'PE')"
   ]
  },
  {
   "cell_type": "code",
   "execution_count": 22,
   "metadata": {
    "scrolled": true
   },
   "outputs": [
    {
     "name": "stdout",
     "output_type": "stream",
     "text": [
      "Results with scikit learn :\n",
      "\n",
      "On the entire dataset :\n",
      "MAE : 3.625215807601185\n",
      "RMSE : 4.557126016749484\n",
      "R² : 0.9286960898122536\n",
      "\n",
      "On the train set :\n",
      "MAE : 3.6305551950945723\n",
      "RMSE : 4.5764040619366035\n",
      "R² : 0.9280191696683742\n",
      "\n",
      "On the test set :\n",
      "MAE : 3.6025048610226156\n",
      "RMSE : 4.473571918012003\n",
      "R² : 0.9315505006545646\n"
     ]
    }
   ],
   "source": [
    "train, test = split(df, 0.2)\n",
    "\n",
    "print(\"Results with scikit learn :\")\n",
    "\n",
    "print()\n",
    "print(\"On the entire dataset :\")\n",
    "model_with_scikit(df, 'PE')\n",
    "print()\n",
    "print(\"On the train set :\")\n",
    "model_with_scikit(train, 'PE')\n",
    "print()\n",
    "print(\"On the test set :\")\n",
    "model_with_scikit(test, 'PE')"
   ]
  },
  {
   "cell_type": "markdown",
   "metadata": {},
   "source": [
    "# Conclusion Lab 1 :\n",
    "\n",
    "### As we can see the results from the 3 models are very similar and with our gradient descent, our normal equation and scikit learn. So, we can strongly affirm that our gradient descent implementation works"
   ]
  },
  {
   "cell_type": "markdown",
   "metadata": {},
   "source": [
    "# Lab 2 :\n",
    "\n",
    "We will perform the same approach as the first lab\n",
    "\n",
    "## Familiarizing with the dataset"
   ]
  },
  {
   "cell_type": "code",
   "execution_count": 23,
   "metadata": {},
   "outputs": [],
   "source": [
    "df_day = pd.read_csv(r'C:\\Users\\Louis\\Desktop\\day.csv')\n",
    "df_hour = pd.read_csv(r'C:\\Users\\Louis\\Desktop\\hour.csv')\n",
    "\n",
    "df_day.drop(['casual', 'registered', 'dteday', 'instant', 'atemp'], axis=1, inplace=True)\n",
    "df_hour.drop(['casual', 'registered', 'dteday', 'instant', 'atemp'], axis=1, inplace=True)"
   ]
  },
  {
   "cell_type": "code",
   "execution_count": 24,
   "metadata": {
    "scrolled": true
   },
   "outputs": [
    {
     "name": "stdout",
     "output_type": "stream",
     "text": [
      "Shape of the dataframe: (17379, 12)\n"
     ]
    },
    {
     "data": {
      "text/html": [
       "<div>\n",
       "<style scoped>\n",
       "    .dataframe tbody tr th:only-of-type {\n",
       "        vertical-align: middle;\n",
       "    }\n",
       "\n",
       "    .dataframe tbody tr th {\n",
       "        vertical-align: top;\n",
       "    }\n",
       "\n",
       "    .dataframe thead th {\n",
       "        text-align: right;\n",
       "    }\n",
       "</style>\n",
       "<table border=\"1\" class=\"dataframe\">\n",
       "  <thead>\n",
       "    <tr style=\"text-align: right;\">\n",
       "      <th></th>\n",
       "      <th>season</th>\n",
       "      <th>yr</th>\n",
       "      <th>mnth</th>\n",
       "      <th>hr</th>\n",
       "      <th>holiday</th>\n",
       "      <th>weekday</th>\n",
       "      <th>workingday</th>\n",
       "      <th>weathersit</th>\n",
       "      <th>temp</th>\n",
       "      <th>hum</th>\n",
       "      <th>windspeed</th>\n",
       "      <th>cnt</th>\n",
       "    </tr>\n",
       "  </thead>\n",
       "  <tbody>\n",
       "    <tr>\n",
       "      <th>0</th>\n",
       "      <td>1</td>\n",
       "      <td>0</td>\n",
       "      <td>1</td>\n",
       "      <td>0</td>\n",
       "      <td>0</td>\n",
       "      <td>6</td>\n",
       "      <td>0</td>\n",
       "      <td>1</td>\n",
       "      <td>0.24</td>\n",
       "      <td>0.81</td>\n",
       "      <td>0.0</td>\n",
       "      <td>16</td>\n",
       "    </tr>\n",
       "    <tr>\n",
       "      <th>1</th>\n",
       "      <td>1</td>\n",
       "      <td>0</td>\n",
       "      <td>1</td>\n",
       "      <td>1</td>\n",
       "      <td>0</td>\n",
       "      <td>6</td>\n",
       "      <td>0</td>\n",
       "      <td>1</td>\n",
       "      <td>0.22</td>\n",
       "      <td>0.80</td>\n",
       "      <td>0.0</td>\n",
       "      <td>40</td>\n",
       "    </tr>\n",
       "    <tr>\n",
       "      <th>2</th>\n",
       "      <td>1</td>\n",
       "      <td>0</td>\n",
       "      <td>1</td>\n",
       "      <td>2</td>\n",
       "      <td>0</td>\n",
       "      <td>6</td>\n",
       "      <td>0</td>\n",
       "      <td>1</td>\n",
       "      <td>0.22</td>\n",
       "      <td>0.80</td>\n",
       "      <td>0.0</td>\n",
       "      <td>32</td>\n",
       "    </tr>\n",
       "    <tr>\n",
       "      <th>3</th>\n",
       "      <td>1</td>\n",
       "      <td>0</td>\n",
       "      <td>1</td>\n",
       "      <td>3</td>\n",
       "      <td>0</td>\n",
       "      <td>6</td>\n",
       "      <td>0</td>\n",
       "      <td>1</td>\n",
       "      <td>0.24</td>\n",
       "      <td>0.75</td>\n",
       "      <td>0.0</td>\n",
       "      <td>13</td>\n",
       "    </tr>\n",
       "    <tr>\n",
       "      <th>4</th>\n",
       "      <td>1</td>\n",
       "      <td>0</td>\n",
       "      <td>1</td>\n",
       "      <td>4</td>\n",
       "      <td>0</td>\n",
       "      <td>6</td>\n",
       "      <td>0</td>\n",
       "      <td>1</td>\n",
       "      <td>0.24</td>\n",
       "      <td>0.75</td>\n",
       "      <td>0.0</td>\n",
       "      <td>1</td>\n",
       "    </tr>\n",
       "  </tbody>\n",
       "</table>\n",
       "</div>"
      ],
      "text/plain": [
       "   season  yr  mnth  hr  holiday  weekday  workingday  weathersit  temp   hum  \\\n",
       "0       1   0     1   0        0        6           0           1  0.24  0.81   \n",
       "1       1   0     1   1        0        6           0           1  0.22  0.80   \n",
       "2       1   0     1   2        0        6           0           1  0.22  0.80   \n",
       "3       1   0     1   3        0        6           0           1  0.24  0.75   \n",
       "4       1   0     1   4        0        6           0           1  0.24  0.75   \n",
       "\n",
       "   windspeed  cnt  \n",
       "0        0.0   16  \n",
       "1        0.0   40  \n",
       "2        0.0   32  \n",
       "3        0.0   13  \n",
       "4        0.0    1  "
      ]
     },
     "execution_count": 24,
     "metadata": {},
     "output_type": "execute_result"
    }
   ],
   "source": [
    "print('Shape of the dataframe:',df_hour.shape)\n",
    "df_hour.head()"
   ]
  },
  {
   "cell_type": "code",
   "execution_count": 25,
   "metadata": {},
   "outputs": [
    {
     "data": {
      "text/html": [
       "<div>\n",
       "<style scoped>\n",
       "    .dataframe tbody tr th:only-of-type {\n",
       "        vertical-align: middle;\n",
       "    }\n",
       "\n",
       "    .dataframe tbody tr th {\n",
       "        vertical-align: top;\n",
       "    }\n",
       "\n",
       "    .dataframe thead th {\n",
       "        text-align: right;\n",
       "    }\n",
       "</style>\n",
       "<table border=\"1\" class=\"dataframe\">\n",
       "  <thead>\n",
       "    <tr style=\"text-align: right;\">\n",
       "      <th></th>\n",
       "      <th>season</th>\n",
       "      <th>yr</th>\n",
       "      <th>mnth</th>\n",
       "      <th>hr</th>\n",
       "      <th>holiday</th>\n",
       "      <th>weekday</th>\n",
       "      <th>workingday</th>\n",
       "      <th>weathersit</th>\n",
       "      <th>temp</th>\n",
       "      <th>hum</th>\n",
       "      <th>windspeed</th>\n",
       "      <th>cnt</th>\n",
       "    </tr>\n",
       "  </thead>\n",
       "  <tbody>\n",
       "    <tr>\n",
       "      <th>17374</th>\n",
       "      <td>1</td>\n",
       "      <td>1</td>\n",
       "      <td>12</td>\n",
       "      <td>19</td>\n",
       "      <td>0</td>\n",
       "      <td>1</td>\n",
       "      <td>1</td>\n",
       "      <td>2</td>\n",
       "      <td>0.26</td>\n",
       "      <td>0.60</td>\n",
       "      <td>0.1642</td>\n",
       "      <td>119</td>\n",
       "    </tr>\n",
       "    <tr>\n",
       "      <th>17375</th>\n",
       "      <td>1</td>\n",
       "      <td>1</td>\n",
       "      <td>12</td>\n",
       "      <td>20</td>\n",
       "      <td>0</td>\n",
       "      <td>1</td>\n",
       "      <td>1</td>\n",
       "      <td>2</td>\n",
       "      <td>0.26</td>\n",
       "      <td>0.60</td>\n",
       "      <td>0.1642</td>\n",
       "      <td>89</td>\n",
       "    </tr>\n",
       "    <tr>\n",
       "      <th>17376</th>\n",
       "      <td>1</td>\n",
       "      <td>1</td>\n",
       "      <td>12</td>\n",
       "      <td>21</td>\n",
       "      <td>0</td>\n",
       "      <td>1</td>\n",
       "      <td>1</td>\n",
       "      <td>1</td>\n",
       "      <td>0.26</td>\n",
       "      <td>0.60</td>\n",
       "      <td>0.1642</td>\n",
       "      <td>90</td>\n",
       "    </tr>\n",
       "    <tr>\n",
       "      <th>17377</th>\n",
       "      <td>1</td>\n",
       "      <td>1</td>\n",
       "      <td>12</td>\n",
       "      <td>22</td>\n",
       "      <td>0</td>\n",
       "      <td>1</td>\n",
       "      <td>1</td>\n",
       "      <td>1</td>\n",
       "      <td>0.26</td>\n",
       "      <td>0.56</td>\n",
       "      <td>0.1343</td>\n",
       "      <td>61</td>\n",
       "    </tr>\n",
       "    <tr>\n",
       "      <th>17378</th>\n",
       "      <td>1</td>\n",
       "      <td>1</td>\n",
       "      <td>12</td>\n",
       "      <td>23</td>\n",
       "      <td>0</td>\n",
       "      <td>1</td>\n",
       "      <td>1</td>\n",
       "      <td>1</td>\n",
       "      <td>0.26</td>\n",
       "      <td>0.65</td>\n",
       "      <td>0.1343</td>\n",
       "      <td>49</td>\n",
       "    </tr>\n",
       "  </tbody>\n",
       "</table>\n",
       "</div>"
      ],
      "text/plain": [
       "       season  yr  mnth  hr  holiday  weekday  workingday  weathersit  temp  \\\n",
       "17374       1   1    12  19        0        1           1           2  0.26   \n",
       "17375       1   1    12  20        0        1           1           2  0.26   \n",
       "17376       1   1    12  21        0        1           1           1  0.26   \n",
       "17377       1   1    12  22        0        1           1           1  0.26   \n",
       "17378       1   1    12  23        0        1           1           1  0.26   \n",
       "\n",
       "        hum  windspeed  cnt  \n",
       "17374  0.60     0.1642  119  \n",
       "17375  0.60     0.1642   89  \n",
       "17376  0.60     0.1642   90  \n",
       "17377  0.56     0.1343   61  \n",
       "17378  0.65     0.1343   49  "
      ]
     },
     "execution_count": 25,
     "metadata": {},
     "output_type": "execute_result"
    }
   ],
   "source": [
    "df_hour.tail()"
   ]
  },
  {
   "cell_type": "code",
   "execution_count": 26,
   "metadata": {
    "scrolled": true
   },
   "outputs": [
    {
     "name": "stdout",
     "output_type": "stream",
     "text": [
      "Shape of the dataframe: (731, 11)\n"
     ]
    },
    {
     "data": {
      "text/html": [
       "<div>\n",
       "<style scoped>\n",
       "    .dataframe tbody tr th:only-of-type {\n",
       "        vertical-align: middle;\n",
       "    }\n",
       "\n",
       "    .dataframe tbody tr th {\n",
       "        vertical-align: top;\n",
       "    }\n",
       "\n",
       "    .dataframe thead th {\n",
       "        text-align: right;\n",
       "    }\n",
       "</style>\n",
       "<table border=\"1\" class=\"dataframe\">\n",
       "  <thead>\n",
       "    <tr style=\"text-align: right;\">\n",
       "      <th></th>\n",
       "      <th>season</th>\n",
       "      <th>yr</th>\n",
       "      <th>mnth</th>\n",
       "      <th>holiday</th>\n",
       "      <th>weekday</th>\n",
       "      <th>workingday</th>\n",
       "      <th>weathersit</th>\n",
       "      <th>temp</th>\n",
       "      <th>hum</th>\n",
       "      <th>windspeed</th>\n",
       "      <th>cnt</th>\n",
       "    </tr>\n",
       "  </thead>\n",
       "  <tbody>\n",
       "    <tr>\n",
       "      <th>0</th>\n",
       "      <td>1</td>\n",
       "      <td>0</td>\n",
       "      <td>1</td>\n",
       "      <td>0</td>\n",
       "      <td>6</td>\n",
       "      <td>0</td>\n",
       "      <td>2</td>\n",
       "      <td>0.344167</td>\n",
       "      <td>0.805833</td>\n",
       "      <td>0.160446</td>\n",
       "      <td>985</td>\n",
       "    </tr>\n",
       "    <tr>\n",
       "      <th>1</th>\n",
       "      <td>1</td>\n",
       "      <td>0</td>\n",
       "      <td>1</td>\n",
       "      <td>0</td>\n",
       "      <td>0</td>\n",
       "      <td>0</td>\n",
       "      <td>2</td>\n",
       "      <td>0.363478</td>\n",
       "      <td>0.696087</td>\n",
       "      <td>0.248539</td>\n",
       "      <td>801</td>\n",
       "    </tr>\n",
       "    <tr>\n",
       "      <th>2</th>\n",
       "      <td>1</td>\n",
       "      <td>0</td>\n",
       "      <td>1</td>\n",
       "      <td>0</td>\n",
       "      <td>1</td>\n",
       "      <td>1</td>\n",
       "      <td>1</td>\n",
       "      <td>0.196364</td>\n",
       "      <td>0.437273</td>\n",
       "      <td>0.248309</td>\n",
       "      <td>1349</td>\n",
       "    </tr>\n",
       "    <tr>\n",
       "      <th>3</th>\n",
       "      <td>1</td>\n",
       "      <td>0</td>\n",
       "      <td>1</td>\n",
       "      <td>0</td>\n",
       "      <td>2</td>\n",
       "      <td>1</td>\n",
       "      <td>1</td>\n",
       "      <td>0.200000</td>\n",
       "      <td>0.590435</td>\n",
       "      <td>0.160296</td>\n",
       "      <td>1562</td>\n",
       "    </tr>\n",
       "    <tr>\n",
       "      <th>4</th>\n",
       "      <td>1</td>\n",
       "      <td>0</td>\n",
       "      <td>1</td>\n",
       "      <td>0</td>\n",
       "      <td>3</td>\n",
       "      <td>1</td>\n",
       "      <td>1</td>\n",
       "      <td>0.226957</td>\n",
       "      <td>0.436957</td>\n",
       "      <td>0.186900</td>\n",
       "      <td>1600</td>\n",
       "    </tr>\n",
       "  </tbody>\n",
       "</table>\n",
       "</div>"
      ],
      "text/plain": [
       "   season  yr  mnth  holiday  weekday  workingday  weathersit      temp  \\\n",
       "0       1   0     1        0        6           0           2  0.344167   \n",
       "1       1   0     1        0        0           0           2  0.363478   \n",
       "2       1   0     1        0        1           1           1  0.196364   \n",
       "3       1   0     1        0        2           1           1  0.200000   \n",
       "4       1   0     1        0        3           1           1  0.226957   \n",
       "\n",
       "        hum  windspeed   cnt  \n",
       "0  0.805833   0.160446   985  \n",
       "1  0.696087   0.248539   801  \n",
       "2  0.437273   0.248309  1349  \n",
       "3  0.590435   0.160296  1562  \n",
       "4  0.436957   0.186900  1600  "
      ]
     },
     "execution_count": 26,
     "metadata": {},
     "output_type": "execute_result"
    }
   ],
   "source": [
    "print('Shape of the dataframe:',df_day.shape)\n",
    "df_day.head() #out"
   ]
  },
  {
   "cell_type": "code",
   "execution_count": 27,
   "metadata": {},
   "outputs": [
    {
     "data": {
      "text/html": [
       "<div>\n",
       "<style scoped>\n",
       "    .dataframe tbody tr th:only-of-type {\n",
       "        vertical-align: middle;\n",
       "    }\n",
       "\n",
       "    .dataframe tbody tr th {\n",
       "        vertical-align: top;\n",
       "    }\n",
       "\n",
       "    .dataframe thead th {\n",
       "        text-align: right;\n",
       "    }\n",
       "</style>\n",
       "<table border=\"1\" class=\"dataframe\">\n",
       "  <thead>\n",
       "    <tr style=\"text-align: right;\">\n",
       "      <th></th>\n",
       "      <th>season</th>\n",
       "      <th>yr</th>\n",
       "      <th>mnth</th>\n",
       "      <th>holiday</th>\n",
       "      <th>weekday</th>\n",
       "      <th>workingday</th>\n",
       "      <th>weathersit</th>\n",
       "      <th>temp</th>\n",
       "      <th>hum</th>\n",
       "      <th>windspeed</th>\n",
       "      <th>cnt</th>\n",
       "    </tr>\n",
       "  </thead>\n",
       "  <tbody>\n",
       "    <tr>\n",
       "      <th>726</th>\n",
       "      <td>1</td>\n",
       "      <td>1</td>\n",
       "      <td>12</td>\n",
       "      <td>0</td>\n",
       "      <td>4</td>\n",
       "      <td>1</td>\n",
       "      <td>2</td>\n",
       "      <td>0.254167</td>\n",
       "      <td>0.652917</td>\n",
       "      <td>0.350133</td>\n",
       "      <td>2114</td>\n",
       "    </tr>\n",
       "    <tr>\n",
       "      <th>727</th>\n",
       "      <td>1</td>\n",
       "      <td>1</td>\n",
       "      <td>12</td>\n",
       "      <td>0</td>\n",
       "      <td>5</td>\n",
       "      <td>1</td>\n",
       "      <td>2</td>\n",
       "      <td>0.253333</td>\n",
       "      <td>0.590000</td>\n",
       "      <td>0.155471</td>\n",
       "      <td>3095</td>\n",
       "    </tr>\n",
       "    <tr>\n",
       "      <th>728</th>\n",
       "      <td>1</td>\n",
       "      <td>1</td>\n",
       "      <td>12</td>\n",
       "      <td>0</td>\n",
       "      <td>6</td>\n",
       "      <td>0</td>\n",
       "      <td>2</td>\n",
       "      <td>0.253333</td>\n",
       "      <td>0.752917</td>\n",
       "      <td>0.124383</td>\n",
       "      <td>1341</td>\n",
       "    </tr>\n",
       "    <tr>\n",
       "      <th>729</th>\n",
       "      <td>1</td>\n",
       "      <td>1</td>\n",
       "      <td>12</td>\n",
       "      <td>0</td>\n",
       "      <td>0</td>\n",
       "      <td>0</td>\n",
       "      <td>1</td>\n",
       "      <td>0.255833</td>\n",
       "      <td>0.483333</td>\n",
       "      <td>0.350754</td>\n",
       "      <td>1796</td>\n",
       "    </tr>\n",
       "    <tr>\n",
       "      <th>730</th>\n",
       "      <td>1</td>\n",
       "      <td>1</td>\n",
       "      <td>12</td>\n",
       "      <td>0</td>\n",
       "      <td>1</td>\n",
       "      <td>1</td>\n",
       "      <td>2</td>\n",
       "      <td>0.215833</td>\n",
       "      <td>0.577500</td>\n",
       "      <td>0.154846</td>\n",
       "      <td>2729</td>\n",
       "    </tr>\n",
       "  </tbody>\n",
       "</table>\n",
       "</div>"
      ],
      "text/plain": [
       "     season  yr  mnth  holiday  weekday  workingday  weathersit      temp  \\\n",
       "726       1   1    12        0        4           1           2  0.254167   \n",
       "727       1   1    12        0        5           1           2  0.253333   \n",
       "728       1   1    12        0        6           0           2  0.253333   \n",
       "729       1   1    12        0        0           0           1  0.255833   \n",
       "730       1   1    12        0        1           1           2  0.215833   \n",
       "\n",
       "          hum  windspeed   cnt  \n",
       "726  0.652917   0.350133  2114  \n",
       "727  0.590000   0.155471  3095  \n",
       "728  0.752917   0.124383  1341  \n",
       "729  0.483333   0.350754  1796  \n",
       "730  0.577500   0.154846  2729  "
      ]
     },
     "execution_count": 27,
     "metadata": {},
     "output_type": "execute_result"
    }
   ],
   "source": [
    "df_day.tail() #out"
   ]
  },
  {
   "cell_type": "markdown",
   "metadata": {},
   "source": [
    "# Test with our gradient descent implementation :"
   ]
  },
  {
   "cell_type": "code",
   "execution_count": 28,
   "metadata": {},
   "outputs": [
    {
     "name": "stdout",
     "output_type": "stream",
     "text": [
      "Results with gradient descent :\n",
      "\n",
      "Hyperparameters : \n",
      "Learning rate : 1e-05  Numbers of iterations : 1500000  Delta : 0  Size of the test set : 15.0 %\n",
      "\n"
     ]
    },
    {
     "data": {
      "image/png": "[encoded data removed]",
      "text/plain": [
       "<Figure size 432x288 with 1 Axes>"
      ]
     },
     "metadata": {
      "needs_background": "light"
     },
     "output_type": "display_data"
    },
    {
     "name": "stdout",
     "output_type": "stream",
     "text": [
      "MAE and RMSE on the entire dataset :\n",
      "MAE : 6080197.698861681\n",
      "RMSE : 7341563.573677422\n",
      "\n",
      "MAE and RMSE on the training set :\n",
      "MAE : 6135504.924138381\n",
      "RMSE : 7388473.638205636\n",
      "\n",
      "MAE and RMSE on the test set :\n",
      "MAE : 5712779.6450413875\n",
      "RMSE : 7024573.895043741\n",
      "\n",
      "R² on the entire dataset :\n",
      "R² : 0.7169836618974299\n",
      "\n",
      "R² on the training set :\n",
      "R² : 0.7333121810381913\n",
      "\n",
      "R² on the test set :\n",
      "R² : 0.6251829240309295\n",
      "\n",
      "\n"
     ]
    }
   ],
   "source": [
    "model_gradient_descent(df_day, 'cnt', normalize=False, delta=0, learning_rate = 0.00001, iterations = 1500000, \n",
    "                           test_split=0.15)\n",
    "\n",
    "print()"
   ]
  },
  {
   "cell_type": "markdown",
   "metadata": {},
   "source": [
    "#### We can see that our model has decent results and generalizes well. However, to achieve it, the model requires a huge number of iterations. \n",
    "#### We chose not to take into account the dataframe with hours because it took to many iterations to predict properly.\n",
    "#### Also we chose our hyerparameters based on which seemed to work best."
   ]
  },
  {
   "cell_type": "markdown",
   "metadata": {},
   "source": [
    "# Test with our normal equation implementation :"
   ]
  },
  {
   "cell_type": "code",
   "execution_count": 29,
   "metadata": {},
   "outputs": [
    {
     "name": "stdout",
     "output_type": "stream",
     "text": [
      "Results with dataframe without hours :\n",
      "\n",
      "Results with normal equation :\n",
      "\n",
      "Hyperparameters : \n",
      "Size of the test set : 15.0 %\n",
      "\n",
      "Cost : 376820.1832301166\n",
      "\n",
      "MAE and RMSE on the entire dataset :\n",
      "MAE : 651.6436758142472\n",
      "RMSE : 869.7899264686714\n",
      "\n",
      "MAE and RMSE on the training set :\n",
      "MAE : 654.3776335859753\n",
      "RMSE : 868.124626110925\n",
      "\n",
      "MAE and RMSE on the test set :\n",
      "MAE : 636.2092414847644\n",
      "RMSE : 879.1321327952124\n",
      "\n",
      "R² on the entire dataset :\n",
      "R² : 0.7981311966482336\n",
      "\n",
      "R² on the training set :\n",
      "R² : 0.8015266522007382\n",
      "\n",
      "R² on the test set :\n",
      "R² : 0.7704542569047337\n",
      "\n",
      "\n"
     ]
    }
   ],
   "source": [
    "print(\"Results with dataframe without hours :\")\n",
    "print()\n",
    "model_normal_equation(df_day, 'cnt', normalize=False, test_split=0.15)\n",
    "\n",
    "print()"
   ]
  },
  {
   "cell_type": "markdown",
   "metadata": {},
   "source": [
    "#### Once again we see decent result, but a bit better than with our gradient descent implementation"
   ]
  },
  {
   "cell_type": "code",
   "execution_count": 30,
   "metadata": {},
   "outputs": [
    {
     "name": "stdout",
     "output_type": "stream",
     "text": [
      "Results with dataframe with hours :\n",
      "\n",
      "Results with normal equation :\n",
      "\n",
      "Hyperparameters : \n",
      "Size of the test set : 15.0 %\n",
      "\n",
      "Cost : 9997.326464731776\n",
      "\n",
      "MAE and RMSE on the entire dataset :\n",
      "MAE : 105.92073749029356\n",
      "RMSE : 141.931834506493\n",
      "\n",
      "MAE and RMSE on the training set :\n",
      "MAE : 105.68137028154253\n",
      "RMSE : 141.4024502243987\n",
      "\n",
      "MAE and RMSE on the test set :\n",
      "MAE : 107.27705985610494\n",
      "RMSE : 144.8949510540573\n",
      "\n",
      "R² on the entire dataset :\n",
      "R² : 0.3876926989222831\n",
      "\n",
      "R² on the training set :\n",
      "R² : 0.38739264336488954\n",
      "\n",
      "R² on the test set :\n",
      "R² : 0.38927020454258765\n",
      "\n",
      "\n"
     ]
    }
   ],
   "source": [
    "print(\"Results with dataframe with hours :\")\n",
    "print()\n",
    "model_normal_equation(df_hour, 'cnt', normalize=False, test_split=0.15)\n",
    "\n",
    "print()"
   ]
  },
  {
   "cell_type": "markdown",
   "metadata": {},
   "source": [
    "#### Compared to our gradient descent, normal equation is clearly faster on the hourly dataset.\n",
    "#### Moreover, we obtained better results and we could use the dataframe with hours, nevertheless we obtained very weak results on the hourly dataframe."
   ]
  },
  {
   "cell_type": "markdown",
   "metadata": {},
   "source": [
    "# Test with scikit-learn :"
   ]
  },
  {
   "cell_type": "code",
   "execution_count": 31,
   "metadata": {},
   "outputs": [
    {
     "name": "stdout",
     "output_type": "stream",
     "text": [
      "Results with dataframe without hours :\n",
      "\n",
      "Results with scikit learn :\n",
      "\n",
      "On the entire dataset :\n",
      "MAE : 648.7802547417151\n",
      "RMSE : 868.2618702286812\n",
      "R² : 0.7988398641466312\n",
      "\n",
      "On the train set :\n",
      "MAE : 619.159043117552\n",
      "RMSE : 825.2838479944222\n",
      "R² : 0.8173862149393184\n",
      "\n",
      "On the test set :\n",
      "MAE : 698.4892586857627\n",
      "RMSE : 946.3166094017364\n",
      "R² : 0.7672648168450309\n"
     ]
    }
   ],
   "source": [
    "print(\"Results with dataframe without hours :\")\n",
    "print()\n",
    "train, test = split(df_day, 0.15)\n",
    "\n",
    "print(\"Results with scikit learn :\")\n",
    "\n",
    "print()\n",
    "print(\"On the entire dataset :\")\n",
    "model_with_scikit(df_day, 'cnt', False)\n",
    "print()\n",
    "print(\"On the train set :\")\n",
    "model_with_scikit(train, 'cnt', False)\n",
    "print()\n",
    "print(\"On the test set :\")\n",
    "model_with_scikit(test, 'cnt', False)"
   ]
  },
  {
   "cell_type": "code",
   "execution_count": 32,
   "metadata": {},
   "outputs": [
    {
     "name": "stdout",
     "output_type": "stream",
     "text": [
      "Results with dataframe with hours :\n",
      "\n",
      "Results with scikit learn :\n",
      "\n",
      "On the entire dataset :\n",
      "MAE : 106.0627920057029\n",
      "RMSE : 141.92536839147877\n",
      "R² : 0.387748488509715\n",
      "\n",
      "On the train set :\n",
      "MAE : 106.3567029800959\n",
      "RMSE : 142.03023210687647\n",
      "R² : 0.3887474643489355\n",
      "\n",
      "On the test set :\n",
      "MAE : 104.13890636452915\n",
      "RMSE : 141.08235712887827\n",
      "R² : 0.3828877145335444\n"
     ]
    }
   ],
   "source": [
    "print(\"Results with dataframe with hours :\")\n",
    "print()\n",
    "train, test = split(df_hour, 0.15)\n",
    "\n",
    "print(\"Results with scikit learn :\")\n",
    "\n",
    "print()\n",
    "print(\"On the entire dataset :\")\n",
    "model_with_scikit(df_hour, 'cnt', False)\n",
    "print()\n",
    "print(\"On the train set :\")\n",
    "model_with_scikit(train, 'cnt', False)\n",
    "print()\n",
    "print(\"On the test set :\")\n",
    "model_with_scikit(test, 'cnt', False)"
   ]
  },
  {
   "cell_type": "markdown",
   "metadata": {},
   "source": [
    "#### With the scikit-learn implementation, we obtained very similar resuts to our normal equation implementation. "
   ]
  },
  {
   "cell_type": "markdown",
   "metadata": {},
   "source": [
    "# Analysis of our predictions"
   ]
  },
  {
   "cell_type": "markdown",
   "metadata": {},
   "source": [
    "#### Since the better results are from our normal equation implementation and scikit-learn implementation, we will take the normal equation results from the dataframe with hours."
   ]
  },
  {
   "cell_type": "code",
   "execution_count": 33,
   "metadata": {},
   "outputs": [
    {
     "name": "stdout",
     "output_type": "stream",
     "text": [
      "Results with normal equation :\n",
      "\n",
      "Hyperparameters : \n",
      "Size of the test set : 15.0 %\n",
      "\n",
      "Cost : 10069.226009737142\n",
      "\n",
      "MAE and RMSE on the entire dataset :\n",
      "MAE : 106.0116158509689\n",
      "RMSE : 141.9312075590559\n",
      "\n",
      "MAE and RMSE on the training set :\n",
      "MAE : 105.74302189008392\n",
      "RMSE : 141.91001380971775\n",
      "\n",
      "MAE and RMSE on the test set :\n",
      "MAE : 107.53354526799724\n",
      "RMSE : 142.0512376220462\n",
      "\n",
      "R² on the entire dataset :\n",
      "R² : 0.38769810833091356\n",
      "\n",
      "R² on the training set :\n",
      "R² : 0.3856384119325077\n",
      "\n",
      "R² on the test set :\n",
      "R² : 0.39901094395215586\n",
      "\n"
     ]
    }
   ],
   "source": [
    "weights,_,_,_,_,_,_ = model_normal_equation(df_hour, 'cnt', normalize=False, test_split=0.15)"
   ]
  },
  {
   "cell_type": "markdown",
   "metadata": {},
   "source": [
    "## Let's now check the differences between our predictions and reality"
   ]
  },
  {
   "cell_type": "code",
   "execution_count": 34,
   "metadata": {},
   "outputs": [],
   "source": [
    "matrix = create_matrix(df_hour, 'cnt')\n",
    "predictions = matrix @ weights"
   ]
  },
  {
   "cell_type": "code",
   "execution_count": 35,
   "metadata": {},
   "outputs": [
    {
     "name": "stdout",
     "output_type": "stream",
     "text": [
      "Mean of our predictions : 189.62901615953768\n",
      "Mean of the real demand : 189.46308763450142\n"
     ]
    }
   ],
   "source": [
    "print(\"Mean of our predictions :\", predictions.mean())\n",
    "print(\"Mean of the real demand :\", df_hour.cnt.mean())"
   ]
  },
  {
   "cell_type": "code",
   "execution_count": 36,
   "metadata": {},
   "outputs": [
    {
     "name": "stdout",
     "output_type": "stream",
     "text": [
      "Standard deviation of our predictions : 112.3861391060788\n",
      "Standard deviation of the real demand : 181.38759909186527\n"
     ]
    }
   ],
   "source": [
    "print(\"Standard deviation of our predictions :\", predictions.std())\n",
    "print(\"Standard deviation of the real demand :\",df_hour.cnt.std())"
   ]
  },
  {
   "cell_type": "markdown",
   "metadata": {},
   "source": [
    "#### We can see that our predictions are less widespread than the real demand.\n",
    "\n",
    "## Now the differences with several group by clauses"
   ]
  },
  {
   "cell_type": "code",
   "execution_count": 37,
   "metadata": {
    "scrolled": false
   },
   "outputs": [
    {
     "name": "stdout",
     "output_type": "stream",
     "text": [
      "Results with group by :\n",
      "\n",
      "Grouped by season :\n",
      "Mean of our predictions : 188\n",
      "Mean of the real demand : 188\n",
      "Standard deviation of our predictions : 50\n",
      "Standard deviation of the real demand : 53\n",
      "\n",
      "\n",
      "Grouped by yr :\n",
      "Mean of our predictions : 189\n",
      "Mean of the real demand : 189\n",
      "Standard deviation of our predictions : 45\n",
      "Standard deviation of the real demand : 64\n",
      "\n",
      "\n",
      "Grouped by mnth :\n",
      "Mean of our predictions : 188\n",
      "Mean of the real demand : 188\n",
      "Standard deviation of our predictions : 53\n",
      "Standard deviation of the real demand : 52\n",
      "\n",
      "\n",
      "Grouped by hr :\n",
      "Mean of our predictions : 189\n",
      "Mean of the real demand : 188\n",
      "Standard deviation of our predictions : 75\n",
      "Standard deviation of the real demand : 131\n",
      "\n",
      "\n",
      "Grouped by holiday :\n",
      "Mean of our predictions : 173\n",
      "Mean of the real demand : 173\n",
      "Standard deviation of our predictions : 17\n",
      "Standard deviation of the real demand : 23\n",
      "\n",
      "\n",
      "Grouped by weekday :\n",
      "Mean of our predictions : 189\n",
      "Mean of the real demand : 189\n",
      "Standard deviation of our predictions : 6\n",
      "Standard deviation of the real demand : 6\n",
      "\n",
      "\n",
      "Grouped by workingday :\n",
      "Mean of our predictions : 187\n",
      "Mean of the real demand : 187\n",
      "Standard deviation of our predictions : 5\n",
      "Standard deviation of the real demand : 8\n",
      "\n",
      "\n",
      "Grouped by weathersit :\n",
      "Mean of our predictions : 133\n",
      "Mean of the real demand : 141\n",
      "Standard deviation of our predictions : 65\n",
      "Standard deviation of the real demand : 59\n",
      "\n",
      "\n",
      "Grouped by temp :\n",
      "Mean of our predictions : 205\n",
      "Mean of the real demand : 194\n",
      "Standard deviation of our predictions : 130\n",
      "Standard deviation of the real demand : 111\n",
      "\n",
      "\n",
      "Grouped by hum :\n",
      "Mean of our predictions : 205\n",
      "Mean of the real demand : 195\n",
      "Standard deviation of our predictions : 82\n",
      "Standard deviation of the real demand : 87\n",
      "\n",
      "\n",
      "Grouped by windspeed :\n",
      "Mean of our predictions : 205\n",
      "Mean of the real demand : 173\n",
      "Standard deviation of our predictions : 42\n",
      "Standard deviation of the real demand : 55\n",
      "\n",
      "\n"
     ]
    }
   ],
   "source": [
    "print(\"Results with group by :\")\n",
    "print()\n",
    "\n",
    "index = 1\n",
    "for i in df_hour.drop('cnt', axis = 1).columns :\n",
    "    print(\"Grouped by\",i,\":\")\n",
    "    matrix = create_matrix(df_hour, 'cnt')\n",
    "    preds = matrix @ weights\n",
    "    grouped_df = df_hour.groupby(i, as_index=False).mean()\n",
    "    \n",
    "    predictions = np.array([])\n",
    "    for j in range(grouped_df.shape[0]) :\n",
    "        value = grouped_df.loc[j, i]\n",
    "        mask = matrix[:, index] == value\n",
    "        predictions = np.append(predictions, preds[mask].mean())\n",
    "    \n",
    "    index += 1\n",
    "    print(\"Mean of our predictions :\", int(predictions.mean()))\n",
    "    print(\"Mean of the real demand :\", int(grouped_df.cnt.mean()))\n",
    "    print(\"Standard deviation of our predictions :\", int(predictions.std()))\n",
    "    print(\"Standard deviation of the real demand :\",int(grouped_df.cnt.std()))\n",
    "    print()\n",
    "    print()"
   ]
  },
  {
   "cell_type": "markdown",
   "metadata": {},
   "source": [
    "#### From these group bys we can see unconclusive result, dependant on what we group by, we can have higher, lower or somewhat equal values for both the mean and the standard deviation"
   ]
  },
  {
   "cell_type": "markdown",
   "metadata": {},
   "source": [
    "## Visualizing the differences"
   ]
  },
  {
   "cell_type": "code",
   "execution_count": 38,
   "metadata": {},
   "outputs": [],
   "source": [
    "def plot_differences(dataframe, group, weights, to_predict, categorical=True) :\n",
    "    \n",
    "    df_analysis = dataframe.groupby(group, as_index=False).mean()\n",
    "    \n",
    "    \n",
    "    matrix = create_matrix(dataframe, to_predict)\n",
    "    preds = matrix @ weights\n",
    "    preds = preds.flatten()\n",
    "    \n",
    "    predictions = np.array([])\n",
    "    \n",
    "    index=(dataframe.columns.tolist().index(group))\n",
    "    for j in range(df_analysis.shape[0]) :\n",
    "        value = df_analysis[group].loc[j]\n",
    "        mask = matrix[:, index + 1] == value\n",
    "        predictions = np.append(predictions, preds[mask].mean())\n",
    "\n",
    "    plt.title('Real demand (blue) vs Predictions (red) (grouped by '+str(group)+')').set_position([.5, 1.1])\n",
    "    plt.xlabel(group)\n",
    "    plt.ylabel(\"Count\")\n",
    "    if categorical :\n",
    "        plt.plot(df_analysis[group], predictions, marker='^', c='r')\n",
    "        plt.bar(df_analysis[group], df_analysis[to_predict])\n",
    "    else :\n",
    "        plt.plot(df_analysis[group], df_analysis[to_predict])\n",
    "        plt.plot(df_analysis[group], predictions, c='r')"
   ]
  },
  {
   "cell_type": "code",
   "execution_count": 39,
   "metadata": {},
   "outputs": [
    {
     "data": {
      "image/png": "[encoded data removed]",
      "text/plain": [
       "<Figure size 432x288 with 1 Axes>"
      ]
     },
     "metadata": {
      "needs_background": "light"
     },
     "output_type": "display_data"
    }
   ],
   "source": [
    "plot_differences(df_hour, 'season', weights, 'cnt')"
   ]
  },
  {
   "cell_type": "code",
   "execution_count": 40,
   "metadata": {},
   "outputs": [
    {
     "data": {
      "image/png": "[encoded data removed]",
      "text/plain": [
       "<Figure size 432x288 with 1 Axes>"
      ]
     },
     "metadata": {
      "needs_background": "light"
     },
     "output_type": "display_data"
    }
   ],
   "source": [
    "plot_differences(df_hour, 'yr', weights, 'cnt')"
   ]
  },
  {
   "cell_type": "code",
   "execution_count": 41,
   "metadata": {},
   "outputs": [
    {
     "data": {
      "image/png": "[encoded data removed]",
      "text/plain": [
       "<Figure size 432x288 with 1 Axes>"
      ]
     },
     "metadata": {
      "needs_background": "light"
     },
     "output_type": "display_data"
    }
   ],
   "source": [
    "plot_differences(df_hour, 'mnth', weights, 'cnt')"
   ]
  },
  {
   "cell_type": "code",
   "execution_count": 42,
   "metadata": {},
   "outputs": [
    {
     "data": {
      "image/png": "[encoded data removed]",
      "text/plain": [
       "<Figure size 432x288 with 1 Axes>"
      ]
     },
     "metadata": {
      "needs_background": "light"
     },
     "output_type": "display_data"
    }
   ],
   "source": [
    "plot_differences(df_hour, 'hr', weights, 'cnt')"
   ]
  },
  {
   "cell_type": "code",
   "execution_count": 43,
   "metadata": {},
   "outputs": [
    {
     "data": {
      "image/png": "[encoded data removed]",
      "text/plain": [
       "<Figure size 432x288 with 1 Axes>"
      ]
     },
     "metadata": {
      "needs_background": "light"
     },
     "output_type": "display_data"
    }
   ],
   "source": [
    "plot_differences(df_hour, 'weekday', weights, 'cnt')"
   ]
  },
  {
   "cell_type": "code",
   "execution_count": 44,
   "metadata": {},
   "outputs": [
    {
     "data": {
      "image/png": "[encoded data removed]",
      "text/plain": [
       "<Figure size 432x288 with 1 Axes>"
      ]
     },
     "metadata": {
      "needs_background": "light"
     },
     "output_type": "display_data"
    }
   ],
   "source": [
    "plot_differences(df_hour, 'holiday', weights, 'cnt')"
   ]
  },
  {
   "cell_type": "code",
   "execution_count": 45,
   "metadata": {},
   "outputs": [
    {
     "data": {
      "image/png": "[encoded data removed]",
      "text/plain": [
       "<Figure size 432x288 with 1 Axes>"
      ]
     },
     "metadata": {
      "needs_background": "light"
     },
     "output_type": "display_data"
    }
   ],
   "source": [
    "plot_differences(df_hour, 'workingday', weights, 'cnt')"
   ]
  },
  {
   "cell_type": "code",
   "execution_count": 46,
   "metadata": {},
   "outputs": [
    {
     "data": {
      "image/png": "[encoded data removed]",
      "text/plain": [
       "<Figure size 432x288 with 1 Axes>"
      ]
     },
     "metadata": {
      "needs_background": "light"
     },
     "output_type": "display_data"
    }
   ],
   "source": [
    "plot_differences(df_hour, 'weathersit', weights, 'cnt')"
   ]
  },
  {
   "cell_type": "code",
   "execution_count": 47,
   "metadata": {},
   "outputs": [
    {
     "data": {
      "image/png": "[encoded data removed]",
      "text/plain": [
       "<Figure size 432x288 with 1 Axes>"
      ]
     },
     "metadata": {
      "needs_background": "light"
     },
     "output_type": "display_data"
    }
   ],
   "source": [
    "plot_differences(df_hour, 'temp', weights, 'cnt', False)"
   ]
  },
  {
   "cell_type": "code",
   "execution_count": 48,
   "metadata": {},
   "outputs": [
    {
     "data": {
      "image/png": "[encoded data removed]",
      "text/plain": [
       "<Figure size 432x288 with 1 Axes>"
      ]
     },
     "metadata": {
      "needs_background": "light"
     },
     "output_type": "display_data"
    }
   ],
   "source": [
    "plot_differences(df_hour, 'hum', weights, 'cnt', False)"
   ]
  },
  {
   "cell_type": "code",
   "execution_count": 49,
   "metadata": {},
   "outputs": [
    {
     "data": {
      "image/png": "[encoded data removed]",
      "text/plain": [
       "<Figure size 432x288 with 1 Axes>"
      ]
     },
     "metadata": {
      "needs_background": "light"
     },
     "output_type": "display_data"
    }
   ],
   "source": [
    "plot_differences(df_hour, 'windspeed', weights, 'cnt', False)"
   ]
  },
  {
   "cell_type": "markdown",
   "metadata": {},
   "source": [
    "# Feature engineering"
   ]
  },
  {
   "cell_type": "markdown",
   "metadata": {},
   "source": [
    "#### Let's begin with one hot encoding."
   ]
  },
  {
   "cell_type": "code",
   "execution_count": 50,
   "metadata": {},
   "outputs": [],
   "source": [
    "df_hour = pd.get_dummies(df_hour, columns=['season', 'mnth', 'hr', 'weekday', 'weathersit'])"
   ]
  },
  {
   "cell_type": "code",
   "execution_count": 51,
   "metadata": {},
   "outputs": [
    {
     "name": "stdout",
     "output_type": "stream",
     "text": [
      "Results with normal equation :\n",
      "\n",
      "Hyperparameters : \n",
      "Size of the test set : 15.0 %\n",
      "\n",
      "Cost : 5131.2360416981155\n",
      "\n",
      "MAE and RMSE on the entire dataset :\n",
      "MAE : 75.25767513819272\n",
      "RMSE : 101.64839388862865\n",
      "\n",
      "MAE and RMSE on the training set :\n",
      "MAE : 75.07310103489493\n",
      "RMSE : 101.30386016039186\n",
      "\n",
      "MAE and RMSE on the test set :\n",
      "MAE : 76.30352425745438\n",
      "RMSE : 103.57897746846224\n",
      "\n",
      "R² on the entire dataset :\n",
      "R² : 0.6859412864677625\n",
      "\n",
      "R² on the training set :\n",
      "R² : 0.6875893654656816\n",
      "\n",
      "R² on the test set :\n",
      "R² : 0.6766961716594875\n",
      "\n",
      "\n"
     ]
    }
   ],
   "source": [
    "weights,_,_,_,_,_,_ = model_normal_equation(df_hour, 'cnt', normalize=False, test_split=0.15)\n",
    "\n",
    "print()"
   ]
  },
  {
   "cell_type": "markdown",
   "metadata": {},
   "source": [
    "#### Thanks to one hot encoding, we can clearly see an increase in the quality of our model, we made a big leap in from around 0.39 to 0.69."
   ]
  },
  {
   "cell_type": "markdown",
   "metadata": {},
   "source": [
    "#### Now let's try to handle the outliers by keeping around 99% of the central data"
   ]
  },
  {
   "cell_type": "code",
   "execution_count": 52,
   "metadata": {},
   "outputs": [],
   "source": [
    "df_without_outliers = df_hour[ df_hour.cnt < df_hour.cnt.mean () + df_hour.cnt.std () * 3]"
   ]
  },
  {
   "cell_type": "code",
   "execution_count": 53,
   "metadata": {},
   "outputs": [
    {
     "name": "stdout",
     "output_type": "stream",
     "text": [
      "We removed 244 rows in our dataframe.\n"
     ]
    }
   ],
   "source": [
    "print(\"We removed\",df_hour.shape[0] - df_without_outliers.shape[0],\"rows in our dataframe.\")"
   ]
  },
  {
   "cell_type": "markdown",
   "metadata": {},
   "source": [
    "## Re execute the normal equation implementation without the outliers"
   ]
  },
  {
   "cell_type": "code",
   "execution_count": 54,
   "metadata": {
    "scrolled": true
   },
   "outputs": [
    {
     "name": "stdout",
     "output_type": "stream",
     "text": [
      "Results with normal equation :\n",
      "\n",
      "Hyperparameters : \n",
      "Size of the test set : 15.0 %\n",
      "\n",
      "Cost : 4446.932552485901\n",
      "\n",
      "MAE and RMSE on the entire dataset :\n",
      "MAE : 70.84858217576826\n",
      "RMSE : 94.79567821958142\n",
      "\n",
      "MAE and RMSE on the training set :\n",
      "MAE : 70.47209734227518\n",
      "RMSE : 94.30729083677359\n",
      "\n",
      "MAE and RMSE on the test set :\n",
      "MAE : 72.98126405635688\n",
      "RMSE : 97.51609536796475\n",
      "\n",
      "R² on the entire dataset :\n",
      "R² : 0.6742701945102159\n",
      "\n",
      "R² on the training set :\n",
      "R² : 0.6782201741034382\n",
      "\n",
      "R² on the test set :\n",
      "R² : 0.6515271689551222\n",
      "\n"
     ]
    }
   ],
   "source": [
    "weights,_,_,_,_,_,_ = model_normal_equation(df_without_outliers, 'cnt', normalize=False, test_split=0.15)"
   ]
  },
  {
   "cell_type": "markdown",
   "metadata": {},
   "source": []
  },
  {
   "cell_type": "markdown",
   "metadata": {},
   "source": [
    "#### Let's check the metrics and R² to the entire dataframe"
   ]
  },
  {
   "cell_type": "code",
   "execution_count": 55,
   "metadata": {},
   "outputs": [
    {
     "name": "stdout",
     "output_type": "stream",
     "text": [
      "MAE : 74.72249974813347\n",
      "RMSE : 102.89929975095015\n",
      "R² : 0.6781639834455563\n",
      "\n"
     ]
    }
   ],
   "source": [
    "compute_metrics(df_hour, 'cnt', weights, False)\n",
    "compute_R2(df_hour, 'cnt', weights, False)\n",
    "\n",
    "print()"
   ]
  },
  {
   "cell_type": "markdown",
   "metadata": {},
   "source": [
    "#### It seems that the outlier were providing some useful information as the new R² is lower than the previous one\n",
    "#### So in the end it didn't help us to improve the quality of our model"
   ]
  },
  {
   "cell_type": "markdown",
   "metadata": {},
   "source": [
    "#### We will now try to add polynomial features"
   ]
  },
  {
   "cell_type": "code",
   "execution_count": 56,
   "metadata": {},
   "outputs": [],
   "source": [
    "train, test = split(df_hour, test_size = 0.15)\n",
    "\n",
    "Y_train = create_labels(train, 'cnt')\n",
    "Y_test = create_labels(test, 'cnt')\n",
    "\n",
    "train.drop('cnt', axis=1, inplace=True)\n",
    "test.drop('cnt', axis=1, inplace=True)\n",
    "\n",
    "poly = PolynomialFeatures(degree=2)\n",
    "X_train = poly.fit_transform(train)\n",
    "X_test = poly.fit_transform(test)"
   ]
  },
  {
   "cell_type": "code",
   "execution_count": 57,
   "metadata": {},
   "outputs": [],
   "source": [
    "weights = np.linalg.pinv( X_train.T @ X_train ) @ X_train.T @ Y_train"
   ]
  },
  {
   "cell_type": "code",
   "execution_count": 58,
   "metadata": {},
   "outputs": [],
   "source": [
    "yhat = X_train @ weights\n",
    "\n",
    "mean_labels = Y_train.mean()\n",
    "\n",
    "mae = np.sum( abs(yhat - Y_train) ) / X_train.shape[0]    \n",
    "rmse = np.sqrt( np.sum( (yhat - Y_train)**2 ) / X_train.shape[0])\n",
    "\n",
    "sst = np.sum( (Y_train - mean_labels)**2 )\n",
    "ssr = np.sum( (yhat - Y_train)**2 ) \n",
    "R2 = 1 - (ssr / sst)"
   ]
  },
  {
   "cell_type": "code",
   "execution_count": 59,
   "metadata": {},
   "outputs": [
    {
     "name": "stdout",
     "output_type": "stream",
     "text": [
      "Results on the training set with polynomial features:\n",
      "\n",
      "MAE : 33.64781755332685\n",
      "RMSE : 48.73789365953291\n",
      "R² : 0.9284373015009403\n"
     ]
    }
   ],
   "source": [
    "print(\"Results on the training set with polynomial features:\")\n",
    "print()\n",
    "print(\"MAE :\",mae)\n",
    "print(\"RMSE :\",rmse)\n",
    "print(\"R² :\",R2)"
   ]
  },
  {
   "cell_type": "code",
   "execution_count": 60,
   "metadata": {},
   "outputs": [],
   "source": [
    "yhat = X_test @ weights\n",
    "\n",
    "mean_labels = Y_test.mean()\n",
    "\n",
    "mae = np.sum( abs(yhat - Y_test) ) / X_test.shape[0]    \n",
    "rmse = np.sqrt( np.sum( (yhat - Y_test)**2 ) / X_test.shape[0])\n",
    "\n",
    "sst = np.sum( (Y_test - mean_labels)**2 )\n",
    "ssr = np.sum( (yhat - Y_test)**2 ) \n",
    "R2 = 1 - (ssr / sst)"
   ]
  },
  {
   "cell_type": "code",
   "execution_count": 61,
   "metadata": {},
   "outputs": [
    {
     "name": "stdout",
     "output_type": "stream",
     "text": [
      "Results on the test set with polynomial features:\n",
      "\n",
      "MAE : 34.919567541165875\n",
      "RMSE : 52.00734506143192\n",
      "R² : 0.9133285681886744\n"
     ]
    }
   ],
   "source": [
    "print(\"Results on the test set with polynomial features:\")\n",
    "print()\n",
    "print(\"MAE :\",mae)\n",
    "print(\"RMSE :\",rmse)\n",
    "print(\"R² :\",R2)"
   ]
  },
  {
   "cell_type": "markdown",
   "metadata": {},
   "source": [
    "# Conclusion"
   ]
  },
  {
   "cell_type": "markdown",
   "metadata": {},
   "source": [
    "#### As we can see adding polynomial features improved dramatically the model's quality and we finally have a R² of 0.92"
   ]
  },
  {
   "cell_type": "markdown",
   "metadata": {},
   "source": [
    "# Optionnal : Other machine learning algorithms"
   ]
  },
  {
   "cell_type": "markdown",
   "metadata": {},
   "source": [
    "## Linear regression with stochastic gradient descent"
   ]
  },
  {
   "cell_type": "code",
   "execution_count": 62,
   "metadata": {},
   "outputs": [
    {
     "name": "stdout",
     "output_type": "stream",
     "text": [
      "Result on the training set with linear regression with stochastic gradient descent :\n",
      "MAE : 34.48024461304029\n",
      "RMSE : 50.48835478864001\n",
      "R² : 0.9232045243515302\n",
      "\n",
      "Result on the training set with linear regression with stochastic gradient descent :\n",
      "MAE : 35.47643127953823\n",
      "RMSE : 53.17012859862939\n",
      "R² : 0.9094096318136918\n",
      "\n"
     ]
    }
   ],
   "source": [
    "sgd = SGDRegressor(max_iter=100000)\n",
    "\n",
    "sgd.fit(X_train, Y_train.flatten())\n",
    "\n",
    "predictions = sgd.predict(X_train)\n",
    "print(\"Result on the training set with linear regression with stochastic gradient descent :\")\n",
    "print(\"MAE :\",mean_absolute_error(Y_train, predictions))\n",
    "print(\"RMSE :\",mean_squared_error(Y_train, predictions, squared=False))\n",
    "print(\"R² :\",sgd.score(X_train, Y_train))\n",
    "print()\n",
    "\n",
    "predictions = sgd.predict(X_test)\n",
    "print(\"Result on the training set with linear regression with stochastic gradient descent :\")\n",
    "print(\"MAE :\",mean_absolute_error(Y_test, predictions))\n",
    "print(\"RMSE :\",mean_squared_error(Y_test, predictions, squared=False))\n",
    "print(\"R² :\",sgd.score(X_test, Y_test))\n",
    "print()"
   ]
  },
  {
   "cell_type": "markdown",
   "metadata": {},
   "source": [
    "## Gradient boosting regressor"
   ]
  },
  {
   "cell_type": "code",
   "execution_count": 63,
   "metadata": {},
   "outputs": [
    {
     "name": "stdout",
     "output_type": "stream",
     "text": [
      "Result on the training set with gradient boosting regressor :\n",
      "MAE : 52.73135809725957\n",
      "RMSE : 70.46900643630002\n",
      "R² : 0.8503938340435727\n",
      "\n",
      "Result on the training set with gradient boosting regressor :\n",
      "MAE : 52.81506107844418\n",
      "RMSE : 70.96011265367376\n",
      "R² : 0.8386476868161545\n",
      "\n"
     ]
    }
   ],
   "source": [
    "gbr = GradientBoostingRegressor()\n",
    "\n",
    "gbr.fit(X_train, Y_train.flatten())\n",
    "\n",
    "predictions = gbr.predict(X_train)\n",
    "print(\"Result on the training set with gradient boosting regressor :\")\n",
    "print(\"MAE :\",mean_absolute_error(Y_train, predictions))\n",
    "print(\"RMSE :\",mean_squared_error(Y_train, predictions, squared=False))\n",
    "print(\"R² :\",gbr.score(X_train, Y_train))\n",
    "print()\n",
    "\n",
    "predictions = gbr.predict(X_test)\n",
    "print(\"Result on the training set with gradient boosting regressor :\")\n",
    "print(\"MAE :\",mean_absolute_error(Y_test, predictions))\n",
    "print(\"RMSE :\",mean_squared_error(Y_test, predictions, squared=False))\n",
    "print(\"R² :\",gbr.score(X_test, Y_test))\n",
    "print()"
   ]
  },
  {
   "cell_type": "markdown",
   "metadata": {},
   "source": [
    "## Random forest regressor"
   ]
  },
  {
   "cell_type": "code",
   "execution_count": 64,
   "metadata": {},
   "outputs": [
    {
     "name": "stdout",
     "output_type": "stream",
     "text": [
      "Result on the training set with random forest regressor :\n",
      "MAE : 17.208400589029768\n",
      "RMSE : 25.42239454520844\n",
      "R² : 0.9805290964446982\n",
      "\n",
      "Result on the training set with random forest regressor :\n",
      "MAE : 32.07429242952625\n",
      "RMSE : 52.01142830168609\n",
      "R² : 0.9133149580275832\n",
      "\n"
     ]
    }
   ],
   "source": [
    "rfr = RandomForestRegressor(max_depth=27)\n",
    "\n",
    "rfr.fit(X_train, Y_train.flatten())\n",
    "\n",
    "predictions = rfr.predict(X_train)\n",
    "print(\"Result on the training set with random forest regressor :\")\n",
    "print(\"MAE :\",mean_absolute_error(Y_train, predictions))\n",
    "print(\"RMSE :\",mean_squared_error(Y_train, predictions, squared=False))\n",
    "print(\"R² :\",rfr.score(X_train, Y_train))\n",
    "print()\n",
    "\n",
    "predictions = rfr.predict(X_test)\n",
    "print(\"Result on the training set with random forest regressor :\")\n",
    "print(\"MAE :\",mean_absolute_error(Y_test, predictions))\n",
    "print(\"RMSE :\",mean_squared_error(Y_test, predictions, squared=False))\n",
    "print(\"R² :\",rfr.score(X_test, Y_test))\n",
    "print()"
   ]
  },
  {
   "cell_type": "markdown",
   "metadata": {},
   "source": [
    "## Deep learning"
   ]
  },
  {
   "cell_type": "code",
   "execution_count": 65,
   "metadata": {},
   "outputs": [
    {
     "name": "stdout",
     "output_type": "stream",
     "text": [
      "Epoch 1/15\n",
      "462/462 [==============================] - 36s 78ms/step - loss: 6619.1577 - mae: 48.6941\n",
      "Epoch 2/15\n",
      "462/462 [==============================] - 36s 78ms/step - loss: 2284.9631 - mae: 29.6753\n",
      "Epoch 3/15\n",
      "462/462 [==============================] - 36s 78ms/step - loss: 2086.4893 - mae: 28.5590\n",
      "Epoch 4/15\n",
      "462/462 [==============================] - 36s 78ms/step - loss: 1838.8848 - mae: 26.5270\n",
      "Epoch 5/15\n",
      "462/462 [==============================] - 36s 78ms/step - loss: 1703.8733 - mae: 25.5731\n",
      "Epoch 6/15\n",
      "462/462 [==============================] - 36s 78ms/step - loss: 1587.5460 - mae: 24.7902\n",
      "Epoch 7/15\n",
      "462/462 [==============================] - 36s 78ms/step - loss: 1517.3303 - mae: 24.2315\n",
      "Epoch 8/15\n",
      "462/462 [==============================] - 36s 78ms/step - loss: 1435.5782 - mae: 23.4539\n",
      "Epoch 9/15\n",
      "462/462 [==============================] - 36s 78ms/step - loss: 1334.1779 - mae: 22.6482\n",
      "Epoch 10/15\n",
      "462/462 [==============================] - 36s 79ms/step - loss: 1240.8541 - mae: 21.8037\n",
      "Epoch 11/15\n",
      "462/462 [==============================] - 37s 79ms/step - loss: 1179.1973 - mae: 21.1414\n",
      "Epoch 12/15\n",
      "462/462 [==============================] - 36s 79ms/step - loss: 1129.4657 - mae: 20.7106\n",
      "Epoch 13/15\n",
      "462/462 [==============================] - 36s 79ms/step - loss: 1083.2480 - mae: 20.1290\n",
      "Epoch 14/15\n",
      "462/462 [==============================] - 36s 78ms/step - loss: 1044.2185 - mae: 19.9103\n",
      "Epoch 15/15\n",
      "462/462 [==============================] - 36s 78ms/step - loss: 1024.3844 - mae: 19.6082\n"
     ]
    },
    {
     "data": {
      "text/plain": [
       "Text(0.5, 0, 'Iterations')"
      ]
     },
     "execution_count": 65,
     "metadata": {},
     "output_type": "execute_result"
    },
    {
     "data": {
      "image/png": "[encoded data removed]",
      "text/plain": [
       "<Figure size 432x288 with 1 Axes>"
      ]
     },
     "metadata": {
      "needs_background": "light"
     },
     "output_type": "display_data"
    }
   ],
   "source": [
    "deep_learning = Sequential()\n",
    "\n",
    "deep_learning.add(Dense(units=X_train.shape[0], activation=\"relu\"))\n",
    "deep_learning.add(Dense(units=16, activation='relu'))\n",
    "deep_learning.add(Dense(units=8, activation='relu'))\n",
    "deep_learning.add(Dense(units=1, activation='relu'))\n",
    "\n",
    "optimizer = tf.keras.optimizers.Adam()\n",
    "\n",
    "deep_learning.compile(optimizer=optimizer, loss='mean_squared_error', metrics=['mae'])\n",
    "\n",
    "hist = deep_learning.fit(X_train, Y_train, epochs = 15, verbose=1)\n",
    "\n",
    "plt.plot(hist.history['mae'])\n",
    "plt.title(\"Mean absolute error over iterations\")\n",
    "plt.ylabel(\"Mean absolute error\")\n",
    "plt.xlabel(\"Iterations\")"
   ]
  },
  {
   "cell_type": "code",
   "execution_count": 66,
   "metadata": {},
   "outputs": [
    {
     "name": "stdout",
     "output_type": "stream",
     "text": [
      "Result on the training set with deep learning :\n",
      "MAE : 21.40424860418327\n",
      "RMSE : 34.11989728170031\n",
      "R² : 0.9649273463355904\n",
      "\n",
      "Result on the training set with deep learning :\n",
      "MAE : 29.74406326265229\n",
      "RMSE : 49.22009345750589\n",
      "R² : 0.9223696630272169\n",
      "\n"
     ]
    }
   ],
   "source": [
    "predictions = deep_learning.predict(X_train)\n",
    "print(\"Result on the training set with deep learning :\")\n",
    "print(\"MAE :\",mean_absolute_error(Y_train, predictions))\n",
    "print(\"RMSE :\",mean_squared_error(Y_train, predictions, squared=False))\n",
    "mean_labels = Y_train.mean()\n",
    "sst = np.sum( (Y_train - mean_labels)**2 )\n",
    "ssr = np.sum( (predictions - Y_train)**2 ) \n",
    "R2 = 1 - (ssr / sst)\n",
    "print(\"R² :\",R2)\n",
    "print()\n",
    "\n",
    "predictions = deep_learning.predict(X_test)\n",
    "print(\"Result on the training set with deep learning :\")\n",
    "print(\"MAE :\",mean_absolute_error(Y_test, predictions))\n",
    "print(\"RMSE :\",mean_squared_error(Y_test, predictions, squared=False))\n",
    "mean_labels = Y_test.mean()\n",
    "sst = np.sum( (Y_test - mean_labels)**2 )\n",
    "ssr = np.sum( (predictions - Y_test)**2 ) \n",
    "R2 = 1 - (ssr / sst)\n",
    "print(\"R² :\",R2)\n",
    "print()"
   ]
  }
 ],
 "metadata": {
  "kernelspec": {
   "display_name": "Python 3",
   "language": "python",
   "name": "python3"
  },
  "language_info": {
   "codemirror_mode": {
    "name": "ipython",
    "version": 3
   },
   "file_extension": ".py",
   "mimetype": "text/x-python",
   "name": "python",
   "nbconvert_exporter": "python",
   "pygments_lexer": "ipython3",
   "version": "3.8.3"
  }
 },
 "nbformat": 4,
 "nbformat_minor": 4
}
